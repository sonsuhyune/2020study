{
 "cells": [
  {
   "cell_type": "code",
   "execution_count": 12,
   "metadata": {},
   "outputs": [
    {
     "name": "stdout",
     "output_type": "stream",
     "text": [
      "3\n",
      "1 3\n",
      "2 4\n",
      "3 5\n",
      "2\n"
     ]
    }
   ],
   "source": [
    " \n",
    "time=[]\n",
    "class_num=0\n",
    "num=int(input())\n",
    "for i in range(num):\n",
    "    in_sen = input()\n",
    "    temp_t=int(in_sen.split()[0])\n",
    "    temp_s=int(in_sen.split()[1])\n",
    "    time.append((temp_t,temp_s))\n",
    "\n",
    "time.sort()\n",
    "\n",
    "result=[0]\n",
    "\n",
    "for i in time:\n",
    "    s,t=i\n",
    "    if s>=result[0]:\n",
    "        result[0]=t\n",
    "    else:\n",
    "        result.append(t)\n",
    "    \n",
    "    time.sort()\n",
    "    \n",
    "\n",
    "print(len(result))"
   ]
  },
  {
   "cell_type": "code",
   "execution_count": 4,
   "metadata": {},
   "outputs": [],
   "source": [
    "import heapq\n",
    "heap=[]\n",
    "heapq.heappush(heap,0)"
   ]
  },
  {
   "cell_type": "code",
   "execution_count": 5,
   "metadata": {},
   "outputs": [
    {
     "name": "stdout",
     "output_type": "stream",
     "text": [
      "[0]\n"
     ]
    }
   ],
   "source": [
    "print(heap)"
   ]
  },
  {
   "cell_type": "code",
   "execution_count": null,
   "metadata": {},
   "outputs": [],
   "source": []
  }
 ],
 "metadata": {
  "kernelspec": {
   "display_name": "Python 3",
   "language": "python",
   "name": "python3"
  },
  "language_info": {
   "codemirror_mode": {
    "name": "ipython",
    "version": 3
   },
   "file_extension": ".py",
   "mimetype": "text/x-python",
   "name": "python",
   "nbconvert_exporter": "python",
   "pygments_lexer": "ipython3",
   "version": "3.7.1"
  }
 },
 "nbformat": 4,
 "nbformat_minor": 2
}
