{
 "cells": [
  {
   "cell_type": "code",
   "execution_count": 10,
   "metadata": {},
   "outputs": [
    {
     "name": "stdout",
     "output_type": "stream",
     "text": [
      "1\n",
      "8 0\n",
      "500000\n"
     ]
    }
   ],
   "source": [
    "t=int(input())\n",
    "x_l=[1,2,3,4,5,6]\n",
    "x_m=[5000000,3000000,2000000,500000,300000,100000]\n",
    "y_l=[1,2,4,8,16]\n",
    "y_m=[5120000,2560000,1280000,640000,320000]\n",
    "ll=[]\n",
    "for i in range(t):\n",
    "    ll.append(tuple(map(int, input().split())))\n",
    "for x,y in ll:\n",
    "    result=0\n",
    "    \n",
    "    for j in range(len(x_l)):\n",
    "        if x==0:\n",
    "            break\n",
    "        x=x-x_l[j]\n",
    "        if x<0:\n",
    "            result+=x_m[j]\n",
    "            break\n",
    "    for j in range(len(y_l)):\n",
    "        if y==0:\n",
    "            break\n",
    "        y=y-y_l[j]\n",
    "        if y<0:\n",
    "            result+=y_m[j]\n",
    "            break\n",
    "    print(result)\n",
    "    "
   ]
  },
  {
   "cell_type": "code",
   "execution_count": 13,
   "metadata": {},
   "outputs": [
    {
     "name": "stdout",
     "output_type": "stream",
     "text": [
      "2\n",
      "18 18\n",
      "420000\n",
      "8 5\n",
      "1780000\n"
     ]
    }
   ],
   "source": [
    "t=int(input())\n",
    "x_l=[1,2,3,4,5,6]\n",
    "x_m=[5000000,3000000,2000000,500000,300000,100000]\n",
    "y_l=[1,2,4,8,16]\n",
    "y_m=[5120000,2560000,1280000,640000,320000]\n",
    "ll=[]\n",
    "#for i in range(t):\n",
    "#    ll.append(tuple(map(int, input().split())))\n",
    "for i in range(t):\n",
    "    result=0\n",
    "    x,y=map(int, input().split())\n",
    "    if x ==0 or x>21:\n",
    "        result+=0\n",
    "    else:\n",
    "        for j in range(len(x_l)):\n",
    "        #if x>21:\n",
    "        #    break\n",
    "            x=x-x_l[j]\n",
    "            if x<0:\n",
    "                result+=x_m[j]\n",
    "                break\n",
    "    if y ==0 or y>31:\n",
    "        result+=0\n",
    "    else:\n",
    "        for j in range(len(y_l)):\n",
    "        #if y>31:\n",
    "        #    break\n",
    "            y=y-y_l[j]\n",
    "            if y<0:\n",
    "                result+=y_m[j]\n",
    "                break\n",
    "    print(result)\n",
    "    "
   ]
  },
  {
   "cell_type": "code",
   "execution_count": null,
   "metadata": {},
   "outputs": [],
   "source": [
    "import sys\n",
    "def first(n) :\n",
    "    if n == 1 : return 5000000\n",
    "    elif n > 1 and n <= 1+2 : return 3000000\n",
    "    elif n > 1+2 and n <= 1+2+3 : return 2000000\n",
    "    elif n > 1+2+3 and n <= 1+2+3+4 : return 500000\n",
    "    elif n > 1+2+3+4 and n <= 1+2+3+4+5 : return 300000\n",
    "    elif n > 1+2+3+4+5 and n <= 1+2+3+4+5+6 : return 100000\n",
    "    else : return 0\n",
    "\n",
    "def second(n) :\n",
    "    if n == 1 : return 5120000\n",
    "    elif n > 1 and n <= 1+2 : return 2560000\n",
    "    elif n > 1+2 and n <= 1+2+4 : return 1280000\n",
    "    elif n > 1+2+4 and n <= 1+2+4+8 : return 640000\n",
    "    elif n > 1+2+4+8 and n <= 1+2+4+8+16 : return 320000\n",
    "    else : return 0\n",
    "\n",
    "if __name__ == '__main__':\n",
    "    t = int(sys.stdin.readline())\n",
    "    for i in range(t) :\n",
    "        a, b = map(int, sys.stdin.readline().split())\n",
    "        print(first(a) + second(b))"
   ]
  },
  {
   "cell_type": "code",
   "execution_count": null,
   "metadata": {},
   "outputs": [],
   "source": [
    "li1 = [5000000] + [3000000]*2 + [2000000]*3 + [500000]*4 + [300000]*5 + [100000]*6 + [0]*79\n",
    "li2 = [5120000] + [2560000]*2 + [1280000]*4 + [640000]*8 + [320000]*16 + [0]*33\n",
    "for _ in range(int(input())):\n",
    "    n1, n2 = map(int, input().split())\n",
    "    print(li1[n1-1] + li2[n2-1])"
   ]
  }
 ],
 "metadata": {
  "kernelspec": {
   "display_name": "Python 3",
   "language": "python",
   "name": "python3"
  },
  "language_info": {
   "codemirror_mode": {
    "name": "ipython",
    "version": 3
   },
   "file_extension": ".py",
   "mimetype": "text/x-python",
   "name": "python",
   "nbconvert_exporter": "python",
   "pygments_lexer": "ipython3",
   "version": "3.7.3"
  }
 },
 "nbformat": 4,
 "nbformat_minor": 2
}
