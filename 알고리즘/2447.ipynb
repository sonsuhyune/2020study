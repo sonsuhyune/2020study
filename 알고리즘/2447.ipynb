{
 "cells": [
  {
   "cell_type": "markdown",
   "metadata": {},
   "source": [
    "## 백준 2447번"
   ]
  },
  {
   "cell_type": "markdown",
   "metadata": {},
   "source": [
    "### 문제\n",
    "\n",
    "   예제를 보고 규칙을 유추한 뒤에 별을 찍어 보세요\n",
    "\n",
    "### 입력\n",
    "\n",
    "   첫째 줄에 N이 주어진다. N은 항상 3의 제곱꼴인 수이다. \n",
    "   \n",
    "### 출력\n",
    "\n",
    "   첫째 줄부터 N번째 줄까지 별을 출력한다."
   ]
  },
  {
   "cell_type": "markdown",
   "metadata": {},
   "source": [
    "## 아래) 내가 푼 것\n",
    " \n",
    "    : 시간이 초과되었다고 떴다.."
   ]
  },
  {
   "cell_type": "code",
   "execution_count": 18,
   "metadata": {},
   "outputs": [
    {
     "name": "stdout",
     "output_type": "stream",
     "text": [
      "27\n",
      "***************************\n",
      "* ** ** ** ** ** ** ** ** *\n",
      "***************************\n",
      "***   ******   ******   ***\n",
      "* *   * ** *   * ** *   * *\n",
      "***   ******   ******   ***\n",
      "***************************\n",
      "* ** ** ** ** ** ** ** ** *\n",
      "***************************\n",
      "*********         *********\n",
      "* ** ** *         * ** ** *\n",
      "*********         *********\n",
      "***   ***         ***   ***\n",
      "* *   * *         * *   * *\n",
      "***   ***         ***   ***\n",
      "*********         *********\n",
      "* ** ** *         * ** ** *\n",
      "*********         *********\n",
      "***************************\n",
      "* ** ** ** ** ** ** ** ** *\n",
      "***************************\n",
      "***   ******   ******   ***\n",
      "* *   * ** *   * ** *   * *\n",
      "***   ******   ******   ***\n",
      "***************************\n",
      "* ** ** ** ** ** ** ** ** *\n",
      "***************************\n"
     ]
    }
   ],
   "source": [
    "num=int(input())\n",
    "\n",
    "def star(i,j): \n",
    "    while(i != 0):\n",
    "        if (i % 3 ==1) and (j % 3==1):\n",
    "            \n",
    "            print(\" \", end=\"\")\n",
    "            return\n",
    "      \n",
    "        i=i//3 #머리로 %--> 이 나누기 기호를 생각하면서 나머지에 계속 집착해서               \n",
    "        j=j//3 #이상한 결과가 나왔다..! ㅠ ㅎ\n",
    "    print(\"*\", end=\"\")\n",
    "                \n",
    "    \n",
    "for i in range(num):\n",
    "    for j in range(num):\n",
    "        star(i,j)\n",
    "    print()"
   ]
  },
  {
   "cell_type": "markdown",
   "metadata": {},
   "source": [
    "## 아래) 다른 사람 코드"
   ]
  },
  {
   "cell_type": "code",
   "execution_count": 22,
   "metadata": {},
   "outputs": [
    {
     "name": "stdout",
     "output_type": "stream",
     "text": [
      "27\n",
      "***************************\n",
      "* ** ** ** ** ** ** ** ** *\n",
      "***************************\n",
      "***   ******   ******   ***\n",
      "* *   * ** *   * ** *   * *\n",
      "***   ******   ******   ***\n",
      "***************************\n",
      "* ** ** ** ** ** ** ** ** *\n",
      "***************************\n",
      "*********         *********\n",
      "* ** ** *         * ** ** *\n",
      "*********         *********\n",
      "***   ***         ***   ***\n",
      "* *   * *         * *   * *\n",
      "***   ***         ***   ***\n",
      "*********         *********\n",
      "* ** ** *         * ** ** *\n",
      "*********         *********\n",
      "***************************\n",
      "* ** ** ** ** ** ** ** ** *\n",
      "***************************\n",
      "***   ******   ******   ***\n",
      "* *   * ** *   * ** *   * *\n",
      "***   ******   ******   ***\n",
      "***************************\n",
      "* ** ** ** ** ** ** ** ** *\n",
      "***************************\n"
     ]
    }
   ],
   "source": [
    "def star(i):\n",
    "    global arr \n",
    "    #idx로 별을 빈칸으로 바꿔야하는 부분을 리스트로\n",
    "    idx = [i for i in range(n) if (i // 3 ** cnt_) % 3 == 1] \n",
    "    #print(idx)\n",
    "    for i in idx:\n",
    "        for j in idx:\n",
    "            arr[i][j] = \" \"\n",
    "\n",
    "n=int(input())\n",
    "v=n\n",
    "cnt=0\n",
    "while v!=1:\n",
    "    v/=3\n",
    "    cnt+=1\n",
    "\n",
    "arr = [[\"*\"]*n for _ in range(n)] #일단 다 별로 채운다\n",
    "for cnt_ in range(cnt):\n",
    "    star(cnt_)\n",
    "\n",
    "print('\\n'.join([''.join([str(i) for i in row]) for row in arr]))"
   ]
  },
  {
   "cell_type": "code",
   "execution_count": null,
   "metadata": {},
   "outputs": [],
   "source": []
  }
 ],
 "metadata": {
  "kernelspec": {
   "display_name": "Python 3",
   "language": "python",
   "name": "python3"
  },
  "language_info": {
   "codemirror_mode": {
    "name": "ipython",
    "version": 3
   },
   "file_extension": ".py",
   "mimetype": "text/x-python",
   "name": "python",
   "nbconvert_exporter": "python",
   "pygments_lexer": "ipython3",
   "version": "3.7.4"
  }
 },
 "nbformat": 4,
 "nbformat_minor": 2
}
