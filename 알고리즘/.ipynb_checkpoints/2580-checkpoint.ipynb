{
 "cells": [
  {
   "cell_type": "code",
   "execution_count": 1,
   "metadata": {},
   "outputs": [
    {
     "name": "stdout",
     "output_type": "stream",
     "text": [
      "0 3 5 4 6 9 2 7 8\n",
      "7 8 2 1 0 5 6 0 9\n",
      "0 6 0 2 7 8 1 3 5\n",
      "3 2 1 0 4 6 8 9 7\n",
      "8 0 4 9 1 3 5 0 6\n",
      "5 9 6 8 2 0 4 1 3\n",
      "9 1 7 6 5 2 0 8 0\n",
      "6 0 3 7 0 1 9 5 2\n",
      "2 5 8 3 9 4 7 6 0\n",
      "1 3 5 4 6 9 2 7 8\n",
      "7 8 2 1 3 5 6 4 9\n",
      "4 6 9 2 7 8 1 3 5\n",
      "3 2 1 5 4 6 8 9 7\n",
      "8 7 4 9 1 3 5 2 6\n",
      "5 9 6 8 2 7 4 1 3\n",
      "9 1 7 6 5 2 3 8 4\n",
      "6 4 3 7 8 1 9 5 2\n",
      "2 5 8 3 9 4 7 6 1\n"
     ]
    },
    {
     "ename": "SystemExit",
     "evalue": "0",
     "output_type": "error",
     "traceback": [
      "An exception has occurred, use %tb to see the full traceback.\n",
      "\u001b[1;31mSystemExit\u001b[0m\u001b[1;31m:\u001b[0m 0\n"
     ]
    },
    {
     "name": "stderr",
     "output_type": "stream",
     "text": [
      "C:\\Users\\SAMSUNG\\Anaconda3\\lib\\site-packages\\IPython\\core\\interactiveshell.py:3275: UserWarning: To exit: use 'exit', 'quit', or Ctrl-D.\n",
      "  warn(\"To exit: use 'exit', 'quit', or Ctrl-D.\", stacklevel=1)\n"
     ]
    }
   ],
   "source": [
    "import sys\n",
    "\n",
    "#sdk=[]\n",
    "#for i in range(9):\n",
    "    \n",
    "sdk = [list(map(int, input().split())) for _ in range(9)]\n",
    "zeros = [(i, j) for i in range(9) for j in range(9) if sdk[i][j] == 0]\n",
    "\n",
    "def sdoku(index):\n",
    "    \n",
    "    # 한 바퀴에서 모든 경우를 다 보았으면 출력\n",
    "    if index == len(zeros):\n",
    "        for row in sdk:\n",
    "            print(*row)\n",
    "        sys.exit(0)\n",
    "    else:\n",
    "        x = zeros[index][0]\n",
    "        y = zeros[index][1]\n",
    "        dx = (x//3) * 3\n",
    "        dy = (y//3) * 3\n",
    "\n",
    "        # 사용할 수 있는 숫자 9개\n",
    "        num_list = [False] + [True for _ in range(9)]\n",
    "\n",
    "        for j in range(9):\n",
    "            # 가로 검사\n",
    "            # 세로 검사\n",
    "            if(sdk[x][j]):\n",
    "                num_list[sdk[x][j]] = False       \n",
    "            if(sdk[j][y]):\n",
    "                num_list[sdk[j][y]] = False\n",
    "\n",
    "        # 3*3 box 검사\n",
    "        for i in range(dx, dx + 3):\n",
    "            for j in range(dy, dy + 3):\n",
    "                check_num = sdk[i][j]\n",
    "                if(check_num):\n",
    "                    num_list[check_num] = False\n",
    "\n",
    "        # 현재 가능한 수만 가져옴\n",
    "        # 가능한 수를 가져왔으면, 이전에 다뤄왔던 백트래킹을 사용하면 됨\n",
    "        candidate_list = [i for i, k in enumerate(num_list) if k]\n",
    "        \n",
    "        # 경우의 수 고려\n",
    "        for num in candidate_list:\n",
    "            sdk[x][y] = num\n",
    "            sdoku(index + 1)\n",
    "            sdk[x][y] = 0\n",
    "\n",
    "print()\n",
    "sdoku(0)"
   ]
  },
  {
   "cell_type": "code",
   "execution_count": null,
   "metadata": {},
   "outputs": [],
   "source": []
  }
 ],
 "metadata": {
  "kernelspec": {
   "display_name": "Python 3",
   "language": "python",
   "name": "python3"
  },
  "language_info": {
   "codemirror_mode": {
    "name": "ipython",
    "version": 3
   },
   "file_extension": ".py",
   "mimetype": "text/x-python",
   "name": "python",
   "nbconvert_exporter": "python",
   "pygments_lexer": "ipython3",
   "version": "3.7.1"
  }
 },
 "nbformat": 4,
 "nbformat_minor": 2
}
