{
 "cells": [
  {
   "cell_type": "markdown",
   "metadata": {},
   "source": [
    "1번 수포자가 찍는 방식: 1, 2, 3, 4, 5, 1, 2, 3, 4, 5, ...\n",
    "2번 수포자가 찍는 방식: 2, 1, 2, 3, 2, 4, 2, 5, 2, 1, 2, 3, 2, 4, 2, 5, ...\n",
    "3번 수포자가 찍는 방식: 3, 3, 1, 1, 2, 2, 4, 4, 5, 5, 3, 3, 1, 1, 2, 2, 4, 4, 5, 5, ..."
   ]
  },
  {
   "cell_type": "code",
   "execution_count": 6,
   "metadata": {},
   "outputs": [],
   "source": [
    "def solution(answers):\n",
    "    first=[1,2,3,4,5]\n",
    "    second=[2,1,2,3,2,4,2,5]\n",
    "    third = [3,3,1,1,2,2,4,4,5,5]\n",
    "    answer=[]\n",
    "    ans=[0,0,0]\n",
    "    for i, value in enumerate(answers):\n",
    "        if value==first[i%len(first)]:\n",
    "            ans[0]+=1\n",
    "        if value==second[i%len(second)]:\n",
    "            ans[1]+=1\n",
    "        if value==third[i%len(third)]:\n",
    "            ans[2]+=1\n",
    "    for i, score in enumerate(ans):\n",
    "        if max(ans)==score:\n",
    "            answer.append(i+1)\n",
    "    return answer"
   ]
  },
  {
   "cell_type": "code",
   "execution_count": null,
   "metadata": {},
   "outputs": [],
   "source": []
  }
 ],
 "metadata": {
  "kernelspec": {
   "display_name": "Python 3",
   "language": "python",
   "name": "python3"
  },
  "language_info": {
   "codemirror_mode": {
    "name": "ipython",
    "version": 3
   },
   "file_extension": ".py",
   "mimetype": "text/x-python",
   "name": "python",
   "nbconvert_exporter": "python",
   "pygments_lexer": "ipython3",
   "version": "3.7.3"
  }
 },
 "nbformat": 4,
 "nbformat_minor": 2
}
