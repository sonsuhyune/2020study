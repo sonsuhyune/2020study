{
 "cells": [
  {
   "cell_type": "markdown",
   "metadata": {},
   "source": [
    "## 문제\n",
    "\n",
    "KOI 전자에서는 건강에 좋고 맛있는 훈제오리구이 요리를 간편하게 만드는 인공지능 오븐을 개발하려고 한다. 인공지능 오븐을 사용하는 방법은 적당한 양의 오리 훈제 재료를 인공지능 오븐에 넣으면 된다. 그러면 인공지능 오븐은 오븐구이가 끝나는 시간을 초 단위로 자동적으로 계산한다. \n",
    "\n",
    "또한, KOI 전자의 인공지능 오븐 앞면에는 사용자에게 훈제오리구이 요리가 끝나는 시각을 알려 주는 디지털 시계가 있다.  \n",
    "\n",
    "훈제오리구이를 시작하는 시각과 오븐구이를 하는 데 필요한 시간이 초 단위로 주어졌을 때, 오븐구이가 끝나는 시각을 계산하는 프로그램을 작성하시오."
   ]
  },
  {
   "cell_type": "markdown",
   "metadata": {},
   "source": [
    "## 입력\n",
    "\n",
    "첫째 줄에는 현재 시각이 나온다. 현재 시각은 시 A (0<=A<=23), 분 B (0<=B<=59)와 초 C (0<=C<=59)가 정수로 빈칸을 사이에 두고 순서대로 주어진다. 두 번째 줄에는 요리하는 데 필요한 시간 D (0<=D<=500,000)가 초 단위로 주어진다. \n",
    "\n"
   ]
  },
  {
   "cell_type": "markdown",
   "metadata": {},
   "source": [
    "## 출력\n",
    "\n",
    "첫째 줄에 종료되는 시각의 시, 분, 초을 공백을 사이에 두고 출력한다. (단, 시는 0부터 23까지의 정수이며, 분, 초는 0부터 59까지의 정수이다. 디지털 시계는 23시 59분 59초에서 1초가 지나면 0시 0분 0초가 된다.)"
   ]
  },
  {
   "cell_type": "markdown",
   "metadata": {},
   "source": [
    "#### 아래는 내가 푼 코드"
   ]
  },
  {
   "cell_type": "code",
   "execution_count": 8,
   "metadata": {},
   "outputs": [
    {
     "name": "stdout",
     "output_type": "stream",
     "text": [
      "14 30 0\n",
      "4000\n",
      "15 36 40 "
     ]
    }
   ],
   "source": [
    "start=input() #현재 시각입력\n",
    "start_time=start.split() # 시, 분, 초가 리스트로 들어가있음\n",
    "\n",
    "time=int(input()) # 걸리는 시간입력\n",
    "\n",
    "re=[]\n",
    "re.append(time/3600)\n",
    "re.append((time%3600)/60)\n",
    "re.append((time%3600)%60)\n",
    "\n",
    "result=[]\n",
    "for i in range(3):\n",
    "    result.append(int(start_time[i])+int(re[i]))\n",
    "\n",
    "for i in range(1,3):\n",
    "    while(result[i]>59):\n",
    "        result[i-1]+=1\n",
    "        result[i]=result[i]-60\n",
    "    \n",
    "for i in result:\n",
    "    print(i, end=\" \")\n"
   ]
  },
  {
   "cell_type": "markdown",
   "metadata": {},
   "source": [
    "이렇게 풀면 틀렸다고 나온다\n",
    "\n",
    "틀린이유: 23시 59분 59초를 넘는 경우를 생각하지 않았음.\n",
    "\n",
    "아래는 다시 수정한 코드"
   ]
  },
  {
   "cell_type": "code",
   "execution_count": 9,
   "metadata": {},
   "outputs": [
    {
     "name": "stdout",
     "output_type": "stream",
     "text": [
      "14 30 0\n",
      "200\n",
      "14 33 20 "
     ]
    }
   ],
   "source": [
    "start=input() #현재 시각입력\n",
    "start_time=start.split() # 시, 분, 초가 리스트로 들어가있음\n",
    "\n",
    "time=int(input()) # 걸리는 시간입력\n",
    "\n",
    "re=[]\n",
    "re.append(time/3600)\n",
    "re.append((time%3600)/60)\n",
    "re.append((time%3600)%60)\n",
    "\n",
    "result=[]\n",
    "for i in range(3):\n",
    "    result.append(int(start_time[i])+int(re[i]))\n",
    "    \n",
    "if result[2]>59:\n",
    "    result[2]=result[2]-60*(result[2]//60)\n",
    "    result[1]+=result[2]//60\n",
    "\n",
    "if result[1]>59:\n",
    "    result[1]=result[1]-60*(result[1]//60)\n",
    "    result[0]+=result[1]//60\n",
    "if result[0]>23:\n",
    "    result[0]=int(result[0]%24)\n",
    "    \n",
    "for i in result:\n",
    "    print(i, end=\" \")"
   ]
  },
  {
   "cell_type": "markdown",
   "metadata": {},
   "source": [
    "이렇게 했는데도 틀렸다고 떴다\n",
    "\n",
    "코드가 너무 복잡해서 그런 것 같아서 리스트를 사용하지 않고 다시 짜봤다"
   ]
  },
  {
   "cell_type": "code",
   "execution_count": 10,
   "metadata": {},
   "outputs": [
    {
     "name": "stdout",
     "output_type": "stream",
     "text": [
      "14 30 0\n",
      "2000\n",
      "15 3 20\n"
     ]
    }
   ],
   "source": [
    "H, M, S = map(int, input().split())\n",
    "D = int(input()) \n",
    "\n",
    "S += D % 60\n",
    "D = D // 60\n",
    "if S >= 60:\n",
    "    S -= 60\n",
    "    M += 1\n",
    "\n",
    "M += D % 60\n",
    "D = D // 60\n",
    "if M >= 60:\n",
    "    M -= 60\n",
    "    H += 1\n",
    "\n",
    "H += D % 24\n",
    "if H >= 24:\n",
    "    H -= 24\n",
    "\n",
    "print(H,M,S)"
   ]
  },
  {
   "cell_type": "code",
   "execution_count": null,
   "metadata": {},
   "outputs": [],
   "source": []
  }
 ],
 "metadata": {
  "kernelspec": {
   "display_name": "Python 3",
   "language": "python",
   "name": "python3"
  },
  "language_info": {
   "codemirror_mode": {
    "name": "ipython",
    "version": 3
   },
   "file_extension": ".py",
   "mimetype": "text/x-python",
   "name": "python",
   "nbconvert_exporter": "python",
   "pygments_lexer": "ipython3",
   "version": "3.7.4"
  }
 },
 "nbformat": 4,
 "nbformat_minor": 2
}
