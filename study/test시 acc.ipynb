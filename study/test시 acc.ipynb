{
 "cells": [
  {
   "cell_type": "code",
   "execution_count": 15,
   "metadata": {},
   "outputs": [],
   "source": [
    "import os\n",
    "import json\n",
    "\n",
    "path=\"데이터/\"\n",
    "file_list=os.listdir(path)\n"
   ]
  },
  {
   "cell_type": "code",
   "execution_count": 72,
   "metadata": {},
   "outputs": [
    {
     "name": "stdout",
     "output_type": "stream",
     "text": [
      "detect 잘 한 것: 4 개  ['o', 'u', 'q', 'r']\n",
      "detect 틀리게 한 것:  0 개  {}\n",
      "아예 detect를 하지 못한 것:  1 개  ['p']\n",
      "두개 이상의 label을 detect한 것({정답 label: detect한 label들}):  {'q': ['h', 'q']}\n"
     ]
    }
   ],
   "source": [
    "detect_ok=[]\n",
    "detect_not_ok={} #detect하긴 했는데 잘못한 경우 {정답 라벨: 예측한 라벨}\n",
    "failed_to_detect=[] #아예 detect하지 못한 경우\n",
    "Label_more={} #두개 이상 detect된 이미지는 confidence가 더 높은 label을 남기고 다 지운다!\n",
    "\n",
    "\n",
    "#data example: [{\"label\": \"o\", \"confidence\": 0.91, \"topleft\": {\"x\": 0, \"y\": 0}, \"bottomright\": {\"x\": 399, \"y\": 360}}]\n",
    "\n",
    "for i in file_list:\n",
    "    #i=filename --> ex) o_28_rotate_3.json\n",
    "    file_path=os.path.join(path,i)\n",
    "    with open(file_path) as file:\n",
    "        data = json.load(file)\n",
    "    #print(data)\n",
    "    \n",
    "    if len(data)==0:\n",
    "        failed_to_detect.append(i[0])\n",
    "   \n",
    "    else:\n",
    "        \n",
    "        if len(data) != 1:\n",
    "            more_detect=[]\n",
    "            max_d=0\n",
    "            for j in range(len(data)):\n",
    "                more_detect.append(data[j]['label'])\n",
    "                if data[max_d]['confidence']<data[j]['confidence']:\n",
    "                \n",
    "                    max_d=j\n",
    "                \n",
    "            Label_more[i[0]]=more_detect\n",
    "            \n",
    "            new_data=data[max_d]\n",
    "            data=[]\n",
    "            data.append(new_data)\n",
    "    \n",
    "        #잘 detect했는지 확인\n",
    "        \n",
    "        if data[0]['label']==i[0]:\n",
    "            detect_ok.append(i[0])\n",
    "        else:\n",
    "            detect_not_ok[i[0]]=data[0]['label']\n",
    "        \n",
    "    \n",
    "\n",
    "\n",
    "print(\"detect 잘 한 것:\",  len(detect_ok),\"개 \",detect_ok)\n",
    "print(\"detect 틀리게 한 것: \",len(detect_not_ok),\"개 \",detect_not_ok)\n",
    "print(\"아예 detect를 하지 못한 것: \",len(failed_to_detect),'개 ',failed_to_detect)\n",
    "print(\"두개 이상의 label을 detect한 것({정답 label: detect한 label들}): \",Label_more)\n",
    "\n",
    "\n",
    "\n",
    "    \n",
    "    \n",
    "    \n",
    "    "
   ]
  },
  {
   "cell_type": "code",
   "execution_count": null,
   "metadata": {},
   "outputs": [],
   "source": []
  }
 ],
 "metadata": {
  "kernelspec": {
   "display_name": "Python 3",
   "language": "python",
   "name": "python3"
  },
  "language_info": {
   "codemirror_mode": {
    "name": "ipython",
    "version": 3
   },
   "file_extension": ".py",
   "mimetype": "text/x-python",
   "name": "python",
   "nbconvert_exporter": "python",
   "pygments_lexer": "ipython3",
   "version": "3.7.3"
  }
 },
 "nbformat": 4,
 "nbformat_minor": 2
}
