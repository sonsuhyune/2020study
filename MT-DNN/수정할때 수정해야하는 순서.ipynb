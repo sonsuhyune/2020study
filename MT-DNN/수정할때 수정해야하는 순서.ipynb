score = self.mnetwork(*inputs)
self.mnetwork = nn.DataParallel(self.network) if opt['multi_gpu_on'] else self.network
self.network = SANBertNetwork(opt)
from .matcher import SANBertNetwork

opt
: At MTDNN/train.py 
  
    opt['answer_opt'] = decoder_opts
    opt['task_types'] = task_types
    opt['tasks_dropout_p'] = dropout_list
    opt['loss_types'] = loss_types
    opt['kd_loss_types'] = kd_loss_types

--> we must know what is "score"
--> To know that, we must know about "MTDNN/mt_dnn/matcher.py"
